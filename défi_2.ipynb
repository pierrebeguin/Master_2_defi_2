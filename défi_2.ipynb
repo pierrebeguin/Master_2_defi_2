{
  "nbformat": 4,
  "nbformat_minor": 0,
  "metadata": {
    "colab": {
      "provenance": [],
      "collapsed_sections": [
        "IeKsHGz57wy-",
        "8Luobr_K7niM",
        "9K1OQB1V_EiC",
        "9Xx7pb_cmOfn",
        "u-Ncql2WbLz-",
        "D6ZoYOZcX6v0",
        "vm4ENPqKZDS9",
        "hE77Fs4mc2Mk"
      ]
    },
    "kernelspec": {
      "name": "python3",
      "display_name": "Python 3"
    },
    "language_info": {
      "name": "python"
    }
  },
  "cells": [
    {
      "cell_type": "markdown",
      "source": [
        "# library"
      ],
      "metadata": {
        "id": "IeKsHGz57wy-"
      }
    },
    {
      "cell_type": "code",
      "source": [
        "import pandas as pd\n",
        "import numpy as np\n",
        "import requests\n",
        "from io import StringIO\n",
        "\n",
        "from sklearn.model_selection import train_test_split\n",
        "from sklearn.preprocessing import LabelEncoder\n",
        "from tensorflow.keras.preprocessing.text import Tokenizer\n",
        "from tensorflow.keras.preprocessing.sequence import pad_sequences\n",
        "from tensorflow.keras.models import Sequential\n",
        "from tensorflow.keras.layers import Embedding, Dense, GlobalAveragePooling1D, LSTM\n",
        "from sklearn.metrics import accuracy_score, precision_score, recall_score, f1_score, confusion_matrix, classification_report\n",
        "from sklearn.metrics import roc_curve, auc\n",
        "import seaborn as sns\n",
        "import matplotlib.pyplot as plt"
      ],
      "metadata": {
        "id": "aZpWjOL77yt-"
      },
      "execution_count": 1,
      "outputs": []
    },
    {
      "cell_type": "markdown",
      "source": [
        "# import data"
      ],
      "metadata": {
        "id": "8Luobr_K7niM"
      }
    },
    {
      "cell_type": "code",
      "source": [
        "lien_csv = \"https://raw.githubusercontent.com/pierrebeguin/Master_2_defi_2/main/data_defi_2.csv\"\n",
        "response = requests.get(lien_csv)\n",
        "data = pd.read_csv(StringIO(response.text), sep=\";\")\n",
        "\n",
        "# supprimer la 1er ligne\n",
        "data.columns = data.iloc[0]\n",
        "data = data.iloc[1:].reset_index(drop=True)\n",
        "\n",
        "# renommer les colonnes\n",
        "data = data.rename(columns={'Libellé.Prescription': 'medicament', 'Avis.Pharmaceutique' : 'avis'})\n",
        "\n",
        "# Suppression des lignes où la colonne 'avis' est vide\n",
        "data = data.dropna(subset=['avis'])\n",
        "\n",
        "# Créer les colonnes IP_1 et IP_2\n",
        "data['PLT'] = pd.to_numeric(data['PLT'], errors='coerce')\n",
        "data['IP_1'] = np.where(data['PLT'].isin([4.1, 4.2, 5.1, 5.2, 5.3, 6.3, 6.4]), 1, 0)\n",
        "data['IP_2'] = np.floor(data['PLT']).astype(int)\n",
        "\n",
        "display(data.head())"
      ],
      "metadata": {
        "colab": {
          "base_uri": "https://localhost:8080/",
          "height": 0
        },
        "id": "app3sNOv7q6p",
        "outputId": "625abb07-927f-4d68-8c83-f6abc30b18bd"
      },
      "execution_count": 2,
      "outputs": [
        {
          "output_type": "display_data",
          "data": {
            "text/plain": [
              "0                                         medicament  \\\n",
              "0        CONTRAMAL 100 MG/ML, GOUTTES BUV (TRAMADOL)   \n",
              "1            IMOVANE 7.5 MG, CPR SÉCABLE (ZOPICLONE)   \n",
              "2          COLCHICINE 1 MG, CPR SÉCABLE (COLCHICINE)   \n",
              "3  PANTOPRAZOLE 40 MG, CPR GASTRO-RÉSISTANT (EUPA...   \n",
              "4                            VANCOMYCINE 500 mg 1x/j   \n",
              "\n",
              "0                                               avis  PLT  IP_1  IP_2  \n",
              "0                         30/12/16 pas d'indication   5.3     1     5  \n",
              "1  22/12/16 recommandé -> IMOVANE 3,75MG CP, 1 au...  4.1     1     4  \n",
              "2  au vue de la DFG, il est recommandé d'administ...  4.1     1     4  \n",
              "3  Dose curative et absence d'ATCD gastrique retr...  4.1     1     4  \n",
              "4  posologie infraT veuillez réévaluer la posolog...  3.1     0     3  "
            ],
            "text/html": [
              "\n",
              "  <div id=\"df-5b5b9a38-3f52-4674-b451-3c3940bdaef6\" class=\"colab-df-container\">\n",
              "    <div>\n",
              "<style scoped>\n",
              "    .dataframe tbody tr th:only-of-type {\n",
              "        vertical-align: middle;\n",
              "    }\n",
              "\n",
              "    .dataframe tbody tr th {\n",
              "        vertical-align: top;\n",
              "    }\n",
              "\n",
              "    .dataframe thead th {\n",
              "        text-align: right;\n",
              "    }\n",
              "</style>\n",
              "<table border=\"1\" class=\"dataframe\">\n",
              "  <thead>\n",
              "    <tr style=\"text-align: right;\">\n",
              "      <th></th>\n",
              "      <th>medicament</th>\n",
              "      <th>avis</th>\n",
              "      <th>PLT</th>\n",
              "      <th>IP_1</th>\n",
              "      <th>IP_2</th>\n",
              "    </tr>\n",
              "  </thead>\n",
              "  <tbody>\n",
              "    <tr>\n",
              "      <th>0</th>\n",
              "      <td>CONTRAMAL 100 MG/ML, GOUTTES BUV (TRAMADOL)</td>\n",
              "      <td>30/12/16 pas d'indication</td>\n",
              "      <td>5.3</td>\n",
              "      <td>1</td>\n",
              "      <td>5</td>\n",
              "    </tr>\n",
              "    <tr>\n",
              "      <th>1</th>\n",
              "      <td>IMOVANE 7.5 MG, CPR SÉCABLE (ZOPICLONE)</td>\n",
              "      <td>22/12/16 recommandé -&gt; IMOVANE 3,75MG CP, 1 au...</td>\n",
              "      <td>4.1</td>\n",
              "      <td>1</td>\n",
              "      <td>4</td>\n",
              "    </tr>\n",
              "    <tr>\n",
              "      <th>2</th>\n",
              "      <td>COLCHICINE 1 MG, CPR SÉCABLE (COLCHICINE)</td>\n",
              "      <td>au vue de la DFG, il est recommandé d'administ...</td>\n",
              "      <td>4.1</td>\n",
              "      <td>1</td>\n",
              "      <td>4</td>\n",
              "    </tr>\n",
              "    <tr>\n",
              "      <th>3</th>\n",
              "      <td>PANTOPRAZOLE 40 MG, CPR GASTRO-RÉSISTANT (EUPA...</td>\n",
              "      <td>Dose curative et absence d'ATCD gastrique retr...</td>\n",
              "      <td>4.1</td>\n",
              "      <td>1</td>\n",
              "      <td>4</td>\n",
              "    </tr>\n",
              "    <tr>\n",
              "      <th>4</th>\n",
              "      <td>VANCOMYCINE 500 mg 1x/j</td>\n",
              "      <td>posologie infraT veuillez réévaluer la posolog...</td>\n",
              "      <td>3.1</td>\n",
              "      <td>0</td>\n",
              "      <td>3</td>\n",
              "    </tr>\n",
              "  </tbody>\n",
              "</table>\n",
              "</div>\n",
              "    <div class=\"colab-df-buttons\">\n",
              "\n",
              "  <div class=\"colab-df-container\">\n",
              "    <button class=\"colab-df-convert\" onclick=\"convertToInteractive('df-5b5b9a38-3f52-4674-b451-3c3940bdaef6')\"\n",
              "            title=\"Convert this dataframe to an interactive table.\"\n",
              "            style=\"display:none;\">\n",
              "\n",
              "  <svg xmlns=\"http://www.w3.org/2000/svg\" height=\"24px\" viewBox=\"0 -960 960 960\">\n",
              "    <path d=\"M120-120v-720h720v720H120Zm60-500h600v-160H180v160Zm220 220h160v-160H400v160Zm0 220h160v-160H400v160ZM180-400h160v-160H180v160Zm440 0h160v-160H620v160ZM180-180h160v-160H180v160Zm440 0h160v-160H620v160Z\"/>\n",
              "  </svg>\n",
              "    </button>\n",
              "\n",
              "  <style>\n",
              "    .colab-df-container {\n",
              "      display:flex;\n",
              "      gap: 12px;\n",
              "    }\n",
              "\n",
              "    .colab-df-convert {\n",
              "      background-color: #E8F0FE;\n",
              "      border: none;\n",
              "      border-radius: 50%;\n",
              "      cursor: pointer;\n",
              "      display: none;\n",
              "      fill: #1967D2;\n",
              "      height: 32px;\n",
              "      padding: 0 0 0 0;\n",
              "      width: 32px;\n",
              "    }\n",
              "\n",
              "    .colab-df-convert:hover {\n",
              "      background-color: #E2EBFA;\n",
              "      box-shadow: 0px 1px 2px rgba(60, 64, 67, 0.3), 0px 1px 3px 1px rgba(60, 64, 67, 0.15);\n",
              "      fill: #174EA6;\n",
              "    }\n",
              "\n",
              "    .colab-df-buttons div {\n",
              "      margin-bottom: 4px;\n",
              "    }\n",
              "\n",
              "    [theme=dark] .colab-df-convert {\n",
              "      background-color: #3B4455;\n",
              "      fill: #D2E3FC;\n",
              "    }\n",
              "\n",
              "    [theme=dark] .colab-df-convert:hover {\n",
              "      background-color: #434B5C;\n",
              "      box-shadow: 0px 1px 3px 1px rgba(0, 0, 0, 0.15);\n",
              "      filter: drop-shadow(0px 1px 2px rgba(0, 0, 0, 0.3));\n",
              "      fill: #FFFFFF;\n",
              "    }\n",
              "  </style>\n",
              "\n",
              "    <script>\n",
              "      const buttonEl =\n",
              "        document.querySelector('#df-5b5b9a38-3f52-4674-b451-3c3940bdaef6 button.colab-df-convert');\n",
              "      buttonEl.style.display =\n",
              "        google.colab.kernel.accessAllowed ? 'block' : 'none';\n",
              "\n",
              "      async function convertToInteractive(key) {\n",
              "        const element = document.querySelector('#df-5b5b9a38-3f52-4674-b451-3c3940bdaef6');\n",
              "        const dataTable =\n",
              "          await google.colab.kernel.invokeFunction('convertToInteractive',\n",
              "                                                    [key], {});\n",
              "        if (!dataTable) return;\n",
              "\n",
              "        const docLinkHtml = 'Like what you see? Visit the ' +\n",
              "          '<a target=\"_blank\" href=https://colab.research.google.com/notebooks/data_table.ipynb>data table notebook</a>'\n",
              "          + ' to learn more about interactive tables.';\n",
              "        element.innerHTML = '';\n",
              "        dataTable['output_type'] = 'display_data';\n",
              "        await google.colab.output.renderOutput(dataTable, element);\n",
              "        const docLink = document.createElement('div');\n",
              "        docLink.innerHTML = docLinkHtml;\n",
              "        element.appendChild(docLink);\n",
              "      }\n",
              "    </script>\n",
              "  </div>\n",
              "\n",
              "\n",
              "<div id=\"df-2d5a1c47-bc5c-4b4e-89a1-09e96050b1c4\">\n",
              "  <button class=\"colab-df-quickchart\" onclick=\"quickchart('df-2d5a1c47-bc5c-4b4e-89a1-09e96050b1c4')\"\n",
              "            title=\"Suggest charts\"\n",
              "            style=\"display:none;\">\n",
              "\n",
              "<svg xmlns=\"http://www.w3.org/2000/svg\" height=\"24px\"viewBox=\"0 0 24 24\"\n",
              "     width=\"24px\">\n",
              "    <g>\n",
              "        <path d=\"M19 3H5c-1.1 0-2 .9-2 2v14c0 1.1.9 2 2 2h14c1.1 0 2-.9 2-2V5c0-1.1-.9-2-2-2zM9 17H7v-7h2v7zm4 0h-2V7h2v10zm4 0h-2v-4h2v4z\"/>\n",
              "    </g>\n",
              "</svg>\n",
              "  </button>\n",
              "\n",
              "<style>\n",
              "  .colab-df-quickchart {\n",
              "      --bg-color: #E8F0FE;\n",
              "      --fill-color: #1967D2;\n",
              "      --hover-bg-color: #E2EBFA;\n",
              "      --hover-fill-color: #174EA6;\n",
              "      --disabled-fill-color: #AAA;\n",
              "      --disabled-bg-color: #DDD;\n",
              "  }\n",
              "\n",
              "  [theme=dark] .colab-df-quickchart {\n",
              "      --bg-color: #3B4455;\n",
              "      --fill-color: #D2E3FC;\n",
              "      --hover-bg-color: #434B5C;\n",
              "      --hover-fill-color: #FFFFFF;\n",
              "      --disabled-bg-color: #3B4455;\n",
              "      --disabled-fill-color: #666;\n",
              "  }\n",
              "\n",
              "  .colab-df-quickchart {\n",
              "    background-color: var(--bg-color);\n",
              "    border: none;\n",
              "    border-radius: 50%;\n",
              "    cursor: pointer;\n",
              "    display: none;\n",
              "    fill: var(--fill-color);\n",
              "    height: 32px;\n",
              "    padding: 0;\n",
              "    width: 32px;\n",
              "  }\n",
              "\n",
              "  .colab-df-quickchart:hover {\n",
              "    background-color: var(--hover-bg-color);\n",
              "    box-shadow: 0 1px 2px rgba(60, 64, 67, 0.3), 0 1px 3px 1px rgba(60, 64, 67, 0.15);\n",
              "    fill: var(--button-hover-fill-color);\n",
              "  }\n",
              "\n",
              "  .colab-df-quickchart-complete:disabled,\n",
              "  .colab-df-quickchart-complete:disabled:hover {\n",
              "    background-color: var(--disabled-bg-color);\n",
              "    fill: var(--disabled-fill-color);\n",
              "    box-shadow: none;\n",
              "  }\n",
              "\n",
              "  .colab-df-spinner {\n",
              "    border: 2px solid var(--fill-color);\n",
              "    border-color: transparent;\n",
              "    border-bottom-color: var(--fill-color);\n",
              "    animation:\n",
              "      spin 1s steps(1) infinite;\n",
              "  }\n",
              "\n",
              "  @keyframes spin {\n",
              "    0% {\n",
              "      border-color: transparent;\n",
              "      border-bottom-color: var(--fill-color);\n",
              "      border-left-color: var(--fill-color);\n",
              "    }\n",
              "    20% {\n",
              "      border-color: transparent;\n",
              "      border-left-color: var(--fill-color);\n",
              "      border-top-color: var(--fill-color);\n",
              "    }\n",
              "    30% {\n",
              "      border-color: transparent;\n",
              "      border-left-color: var(--fill-color);\n",
              "      border-top-color: var(--fill-color);\n",
              "      border-right-color: var(--fill-color);\n",
              "    }\n",
              "    40% {\n",
              "      border-color: transparent;\n",
              "      border-right-color: var(--fill-color);\n",
              "      border-top-color: var(--fill-color);\n",
              "    }\n",
              "    60% {\n",
              "      border-color: transparent;\n",
              "      border-right-color: var(--fill-color);\n",
              "    }\n",
              "    80% {\n",
              "      border-color: transparent;\n",
              "      border-right-color: var(--fill-color);\n",
              "      border-bottom-color: var(--fill-color);\n",
              "    }\n",
              "    90% {\n",
              "      border-color: transparent;\n",
              "      border-bottom-color: var(--fill-color);\n",
              "    }\n",
              "  }\n",
              "</style>\n",
              "\n",
              "  <script>\n",
              "    async function quickchart(key) {\n",
              "      const quickchartButtonEl =\n",
              "        document.querySelector('#' + key + ' button');\n",
              "      quickchartButtonEl.disabled = true;  // To prevent multiple clicks.\n",
              "      quickchartButtonEl.classList.add('colab-df-spinner');\n",
              "      try {\n",
              "        const charts = await google.colab.kernel.invokeFunction(\n",
              "            'suggestCharts', [key], {});\n",
              "      } catch (error) {\n",
              "        console.error('Error during call to suggestCharts:', error);\n",
              "      }\n",
              "      quickchartButtonEl.classList.remove('colab-df-spinner');\n",
              "      quickchartButtonEl.classList.add('colab-df-quickchart-complete');\n",
              "    }\n",
              "    (() => {\n",
              "      let quickchartButtonEl =\n",
              "        document.querySelector('#df-2d5a1c47-bc5c-4b4e-89a1-09e96050b1c4 button');\n",
              "      quickchartButtonEl.style.display =\n",
              "        google.colab.kernel.accessAllowed ? 'block' : 'none';\n",
              "    })();\n",
              "  </script>\n",
              "</div>\n",
              "\n",
              "    </div>\n",
              "  </div>\n"
            ],
            "application/vnd.google.colaboratory.intrinsic+json": {
              "type": "dataframe",
              "summary": "{\n  \"name\": \"display(data\",\n  \"rows\": 5,\n  \"fields\": [\n    {\n      \"column\": \"medicament\",\n      \"properties\": {\n        \"dtype\": \"string\",\n        \"num_unique_values\": 5,\n        \"samples\": [\n          \"IMOVANE 7.5 MG, CPR S\\u00c9CABLE (ZOPICLONE)\",\n          \"VANCOMYCINE 500 mg 1x/j\",\n          \"COLCHICINE 1 MG, CPR S\\u00c9CABLE (COLCHICINE)\"\n        ],\n        \"semantic_type\": \"\",\n        \"description\": \"\"\n      }\n    },\n    {\n      \"column\": \"avis\",\n      \"properties\": {\n        \"dtype\": \"string\",\n        \"num_unique_values\": 5,\n        \"samples\": [\n          \"22/12/16 recommand\\u00e9 -> IMOVANE 3,75MG CP, 1 au coucher. EB \",\n          \"posologie infraT veuillez r\\u00e9\\u00e9valuer la posologie, nous proposons 30mg/kG, AB \",\n          \"au vue de la DFG, il est recommand\\u00e9 d'administrer 1mg/48h, (donn\\u00e9es GPR), Veuillez r\\u00e9\\u00e9valuer la prescription, AB \"\n        ],\n        \"semantic_type\": \"\",\n        \"description\": \"\"\n      }\n    },\n    {\n      \"column\": \"PLT\",\n      \"properties\": {\n        \"dtype\": \"number\",\n        \"std\": 0.779743547584717,\n        \"min\": 3.1,\n        \"max\": 5.3,\n        \"num_unique_values\": 3,\n        \"samples\": [\n          5.3,\n          4.1,\n          3.1\n        ],\n        \"semantic_type\": \"\",\n        \"description\": \"\"\n      }\n    },\n    {\n      \"column\": \"IP_1\",\n      \"properties\": {\n        \"dtype\": \"number\",\n        \"std\": 0,\n        \"min\": 0,\n        \"max\": 1,\n        \"num_unique_values\": 2,\n        \"samples\": [\n          0,\n          1\n        ],\n        \"semantic_type\": \"\",\n        \"description\": \"\"\n      }\n    },\n    {\n      \"column\": \"IP_2\",\n      \"properties\": {\n        \"dtype\": \"number\",\n        \"std\": 0,\n        \"min\": 3,\n        \"max\": 5,\n        \"num_unique_values\": 3,\n        \"samples\": [\n          5,\n          4\n        ],\n        \"semantic_type\": \"\",\n        \"description\": \"\"\n      }\n    }\n  ]\n}"
            }
          },
          "metadata": {}
        }
      ]
    },
    {
      "cell_type": "code",
      "source": [
        "#data.groupby('IP_2').size()\n",
        "#data.shape"
      ],
      "metadata": {
        "id": "rDWFku_YZP7R"
      },
      "execution_count": 3,
      "outputs": []
    },
    {
      "cell_type": "markdown",
      "source": [
        "# Préparation_1"
      ],
      "metadata": {
        "id": "9K1OQB1V_EiC"
      }
    },
    {
      "cell_type": "code",
      "source": [
        "# définir X et y\n",
        "X = data['avis']\n",
        "y = data['IP_1']\n",
        "\n",
        "# Divisez les données en ensembles d'entraînement et de test\n",
        "X_train, X_test, y_train, y_test = train_test_split(X, y, test_size=0.2, random_state = 42, stratify=y)\n",
        "\n",
        "# Paramètres de tokenisation\n",
        "max_words = 10000\n",
        "max_len = 100\n",
        "\n",
        "# Initialiser le tokenizer\n",
        "tokenizer = Tokenizer()\n",
        "tokenizer.fit_on_texts(X_train)\n",
        "\n",
        "# Convertir les textes en séquences de tokens\n",
        "X_train = tokenizer.texts_to_sequences(X_train)\n",
        "X_test = tokenizer.texts_to_sequences(X_test)\n",
        "\n",
        "# Ajouter du padding pour uniformiser la longueur des séquences\n",
        "X_train = pad_sequences(X_train, padding='post')\n",
        "X_test = pad_sequences(X_test, padding='post')"
      ],
      "metadata": {
        "id": "-4vsxiMmmwB_"
      },
      "execution_count": 4,
      "outputs": []
    },
    {
      "cell_type": "markdown",
      "source": [
        "# Modèle_1"
      ],
      "metadata": {
        "id": "9Xx7pb_cmOfn"
      }
    },
    {
      "cell_type": "code",
      "source": [
        "# Création du modèle de réseau de neurones\n",
        "model_1 = Sequential([\n",
        "    Embedding(input_dim=max_words, output_dim=16, input_length=max_len),\n",
        "    GlobalAveragePooling1D(),\n",
        "    Dense(16, activation='relu'),\n",
        "    Dense(1, activation='sigmoid')\n",
        "])\n",
        "\n",
        "# Compilation du modèle\n",
        "model_1.compile(optimizer='adam', loss='binary_crossentropy', metrics=['accuracy'])\n",
        "\n",
        "# Entraînement du modèle\n",
        "model_1.fit(X_train, y_train, epochs=10, batch_size=32, validation_data=(X_test, y_test))"
      ],
      "metadata": {
        "colab": {
          "base_uri": "https://localhost:8080/"
        },
        "id": "VsniQ-f1m4sv",
        "outputId": "a42781ea-d781-444e-cf66-bbc4d35b5398"
      },
      "execution_count": 5,
      "outputs": [
        {
          "output_type": "stream",
          "name": "stdout",
          "text": [
            "Epoch 1/10\n"
          ]
        },
        {
          "output_type": "stream",
          "name": "stderr",
          "text": [
            "/usr/local/lib/python3.10/dist-packages/keras/src/layers/core/embedding.py:90: UserWarning: Argument `input_length` is deprecated. Just remove it.\n",
            "  warnings.warn(\n"
          ]
        },
        {
          "output_type": "stream",
          "name": "stdout",
          "text": [
            "\u001b[1m579/579\u001b[0m \u001b[32m━━━━━━━━━━━━━━━━━━━━\u001b[0m\u001b[37m\u001b[0m \u001b[1m3s\u001b[0m 3ms/step - accuracy: 0.8061 - loss: 0.5004 - val_accuracy: 0.8134 - val_loss: 0.3864\n",
            "Epoch 2/10\n",
            "\u001b[1m579/579\u001b[0m \u001b[32m━━━━━━━━━━━━━━━━━━━━\u001b[0m\u001b[37m\u001b[0m \u001b[1m2s\u001b[0m 3ms/step - accuracy: 0.8231 - loss: 0.3739 - val_accuracy: 0.8792 - val_loss: 0.2817\n",
            "Epoch 3/10\n",
            "\u001b[1m579/579\u001b[0m \u001b[32m━━━━━━━━━━━━━━━━━━━━\u001b[0m\u001b[37m\u001b[0m \u001b[1m4s\u001b[0m 5ms/step - accuracy: 0.8744 - loss: 0.2919 - val_accuracy: 0.8952 - val_loss: 0.2582\n",
            "Epoch 4/10\n",
            "\u001b[1m579/579\u001b[0m \u001b[32m━━━━━━━━━━━━━━━━━━━━\u001b[0m\u001b[37m\u001b[0m \u001b[1m4s\u001b[0m 3ms/step - accuracy: 0.8983 - loss: 0.2493 - val_accuracy: 0.9028 - val_loss: 0.2277\n",
            "Epoch 5/10\n",
            "\u001b[1m579/579\u001b[0m \u001b[32m━━━━━━━━━━━━━━━━━━━━\u001b[0m\u001b[37m\u001b[0m \u001b[1m2s\u001b[0m 3ms/step - accuracy: 0.9099 - loss: 0.2202 - val_accuracy: 0.9110 - val_loss: 0.2168\n",
            "Epoch 6/10\n",
            "\u001b[1m579/579\u001b[0m \u001b[32m━━━━━━━━━━━━━━━━━━━━\u001b[0m\u001b[37m\u001b[0m \u001b[1m3s\u001b[0m 3ms/step - accuracy: 0.9183 - loss: 0.2046 - val_accuracy: 0.9147 - val_loss: 0.2081\n",
            "Epoch 7/10\n",
            "\u001b[1m579/579\u001b[0m \u001b[32m━━━━━━━━━━━━━━━━━━━━\u001b[0m\u001b[37m\u001b[0m \u001b[1m2s\u001b[0m 3ms/step - accuracy: 0.9222 - loss: 0.1922 - val_accuracy: 0.9209 - val_loss: 0.2079\n",
            "Epoch 8/10\n",
            "\u001b[1m579/579\u001b[0m \u001b[32m━━━━━━━━━━━━━━━━━━━━\u001b[0m\u001b[37m\u001b[0m \u001b[1m4s\u001b[0m 5ms/step - accuracy: 0.9291 - loss: 0.1787 - val_accuracy: 0.9192 - val_loss: 0.2025\n",
            "Epoch 9/10\n",
            "\u001b[1m579/579\u001b[0m \u001b[32m━━━━━━━━━━━━━━━━━━━━\u001b[0m\u001b[37m\u001b[0m \u001b[1m4s\u001b[0m 3ms/step - accuracy: 0.9339 - loss: 0.1735 - val_accuracy: 0.9211 - val_loss: 0.2031\n",
            "Epoch 10/10\n",
            "\u001b[1m579/579\u001b[0m \u001b[32m━━━━━━━━━━━━━━━━━━━━\u001b[0m\u001b[37m\u001b[0m \u001b[1m2s\u001b[0m 3ms/step - accuracy: 0.9402 - loss: 0.1587 - val_accuracy: 0.9129 - val_loss: 0.2196\n"
          ]
        },
        {
          "output_type": "execute_result",
          "data": {
            "text/plain": [
              "<keras.src.callbacks.history.History at 0x7be8406536a0>"
            ]
          },
          "metadata": {},
          "execution_count": 5
        }
      ]
    },
    {
      "cell_type": "markdown",
      "source": [
        "# Evaluation_1"
      ],
      "metadata": {
        "id": "u-Ncql2WbLz-"
      }
    },
    {
      "cell_type": "code",
      "source": [
        "# Prédictions sur les données de test\n",
        "y_pred_proba = model_1.predict(X_test)\n",
        "y_pred = (y_pred_proba > 0.5).astype(\"int32\").flatten()\n",
        "\n",
        "# Calcul des métriques\n",
        "accuracy = accuracy_score(y_test, y_pred)\n",
        "precision = precision_score(y_test, y_pred)\n",
        "recall = recall_score(y_test, y_pred)\n",
        "f1 = f1_score(y_test, y_pred)\n",
        "conf_matrix = confusion_matrix(y_test, y_pred)\n",
        "class_report = classification_report(y_test, y_pred)\n",
        "\n",
        "# Afficher les résultats\n",
        "print(f\"Accuracy : {accuracy:.2f}\")\n",
        "print(f\"Precision: {precision:.2f}\")\n",
        "print(f\"Recall   : {recall:.2f}\")\n",
        "print(f\"F1 Score : {f1:.2f}\")\n",
        "print(\"\\nMatrice de confusion :\\n\", conf_matrix)\n",
        "print(\"\\nClassification Report :\\n\", class_report)"
      ],
      "metadata": {
        "id": "ZM21qHdUrP99",
        "colab": {
          "base_uri": "https://localhost:8080/"
        },
        "outputId": "7d76c572-1397-40b4-b958-631ebde55e3e"
      },
      "execution_count": 6,
      "outputs": [
        {
          "output_type": "stream",
          "name": "stdout",
          "text": [
            "\u001b[1m145/145\u001b[0m \u001b[32m━━━━━━━━━━━━━━━━━━━━\u001b[0m\u001b[37m\u001b[0m \u001b[1m0s\u001b[0m 2ms/step\n",
            "Accuracy : 0.91\n",
            "Precision: 0.75\n",
            "Recall   : 0.84\n",
            "F1 Score : 0.79\n",
            "\n",
            "Matrice de confusion :\n",
            " [[3463  260]\n",
            " [ 143  763]]\n",
            "\n",
            "Classification Report :\n",
            "               precision    recall  f1-score   support\n",
            "\n",
            "           0       0.96      0.93      0.95      3723\n",
            "           1       0.75      0.84      0.79       906\n",
            "\n",
            "    accuracy                           0.91      4629\n",
            "   macro avg       0.85      0.89      0.87      4629\n",
            "weighted avg       0.92      0.91      0.91      4629\n",
            "\n"
          ]
        }
      ]
    },
    {
      "cell_type": "code",
      "source": [
        "y_pred_proba = model_1.predict(X_test).ravel()\n",
        "fpr, tpr, thresholds = roc_curve(y_test, y_pred_proba)\n",
        "roc_auc = auc(fpr, tpr)\n",
        "\n",
        "plt.figure()\n",
        "plt.plot(fpr, tpr, color='blue', label=f'Courbe ROC (AUC = {roc_auc:.2f})')\n",
        "plt.plot([0, 1], [0, 1], color='gray', linestyle='--')\n",
        "plt.xlim([0.0, 1.0])\n",
        "plt.ylim([0.0, 1.0])\n",
        "plt.xlabel('Taux de Faux Positifs (FPR)')\n",
        "plt.ylabel('Taux de Vrais Positifs (TPR)')\n",
        "plt.title('Courbe ROC')\n",
        "plt.legend(loc=\"lower right\")\n",
        "plt.show()"
      ],
      "metadata": {
        "colab": {
          "base_uri": "https://localhost:8080/",
          "height": 489
        },
        "id": "JuX3FcPLey9C",
        "outputId": "384094d6-a7d9-422d-ac1f-efcf7b8c45d1"
      },
      "execution_count": 7,
      "outputs": [
        {
          "output_type": "stream",
          "name": "stdout",
          "text": [
            "\u001b[1m145/145\u001b[0m \u001b[32m━━━━━━━━━━━━━━━━━━━━\u001b[0m\u001b[37m\u001b[0m \u001b[1m0s\u001b[0m 1ms/step\n"
          ]
        },
        {
          "output_type": "display_data",
          "data": {
            "text/plain": [
              "<Figure size 640x480 with 1 Axes>"
            ],
            "image/png": "[encoded data removed]"
          },
          "metadata": {}
        }
      ]
    },
    {
      "cell_type": "markdown",
      "source": [
        "# Préparation_2"
      ],
      "metadata": {
        "id": "D6ZoYOZcX6v0"
      }
    },
    {
      "cell_type": "code",
      "source": [
        "# définir X et y\n",
        "X = data['avis']\n",
        "y = data['IP_2']\n",
        "\n",
        "# Divisez les données en ensembles d'entraînement et de test\n",
        "X_train, X_test, y_train, y_test = train_test_split(X, y, test_size=0.2, random_state = 42, stratify=y)\n",
        "\n",
        "# Paramètres de tokenisation\n",
        "max_words = 10000\n",
        "max_len = 100\n",
        "\n",
        "# Initialiser le tokenizer\n",
        "tokenizer = Tokenizer()\n",
        "tokenizer.fit_on_texts(X_train)\n",
        "\n",
        "# Convertir les textes en séquences de tokens\n",
        "X_train = tokenizer.texts_to_sequences(X_train)\n",
        "X_test = tokenizer.texts_to_sequences(X_test)\n",
        "\n",
        "# Ajouter du padding pour uniformiser la longueur des séquences\n",
        "X_train = pad_sequences(X_train, padding='post')\n",
        "X_test = pad_sequences(X_test, padding='post')"
      ],
      "metadata": {
        "id": "u2kviBEBX8li"
      },
      "execution_count": 8,
      "outputs": []
    },
    {
      "cell_type": "markdown",
      "source": [
        "# Modèle_2"
      ],
      "metadata": {
        "id": "vm4ENPqKZDS9"
      }
    },
    {
      "cell_type": "code",
      "source": [
        "# Création du modèle de réseau de neurones\n",
        "model_2 = Sequential()\n",
        "model_2.add(Embedding(input_dim=max_words, output_dim=16, input_length=max_len))\n",
        "model_2.add(LSTM(64, return_sequences=True))\n",
        "model_2.add(GlobalAveragePooling1D())\n",
        "model_2.add(Dense(12, activation='softmax'))\n",
        "\n",
        "# Compilation du modèle\n",
        "model_2.compile(loss='sparse_categorical_crossentropy', optimizer='adam', metrics=['accuracy'])\n",
        "\n",
        "# Entraînement du modèle\n",
        "model_2.fit(X_train, y_train, epochs=10, validation_data=(X_test, y_test))"
      ],
      "metadata": {
        "colab": {
          "base_uri": "https://localhost:8080/"
        },
        "id": "600lm4aTZC1r",
        "outputId": "8f78eb47-5984-402d-a74f-5595e7958399"
      },
      "execution_count": 9,
      "outputs": [
        {
          "output_type": "stream",
          "name": "stdout",
          "text": [
            "Epoch 1/10\n"
          ]
        },
        {
          "output_type": "stream",
          "name": "stderr",
          "text": [
            "/usr/local/lib/python3.10/dist-packages/keras/src/layers/core/embedding.py:90: UserWarning: Argument `input_length` is deprecated. Just remove it.\n",
            "  warnings.warn(\n"
          ]
        },
        {
          "output_type": "stream",
          "name": "stdout",
          "text": [
            "\u001b[1m579/579\u001b[0m \u001b[32m━━━━━━━━━━━━━━━━━━━━\u001b[0m\u001b[37m\u001b[0m \u001b[1m22s\u001b[0m 34ms/step - accuracy: 0.4987 - loss: 1.6245 - val_accuracy: 0.5740 - val_loss: 1.2368\n",
            "Epoch 2/10\n",
            "\u001b[1m579/579\u001b[0m \u001b[32m━━━━━━━━━━━━━━━━━━━━\u001b[0m\u001b[37m\u001b[0m \u001b[1m21s\u001b[0m 37ms/step - accuracy: 0.6379 - loss: 1.0857 - val_accuracy: 0.6528 - val_loss: 1.0775\n",
            "Epoch 3/10\n",
            "\u001b[1m579/579\u001b[0m \u001b[32m━━━━━━━━━━━━━━━━━━━━\u001b[0m\u001b[37m\u001b[0m \u001b[1m19s\u001b[0m 34ms/step - accuracy: 0.6873 - loss: 0.9554 - val_accuracy: 0.6719 - val_loss: 1.0201\n",
            "Epoch 4/10\n",
            "\u001b[1m579/579\u001b[0m \u001b[32m━━━━━━━━━━━━━━━━━━━━\u001b[0m\u001b[37m\u001b[0m \u001b[1m22s\u001b[0m 36ms/step - accuracy: 0.7325 - loss: 0.8058 - val_accuracy: 0.7256 - val_loss: 0.8400\n",
            "Epoch 5/10\n",
            "\u001b[1m579/579\u001b[0m \u001b[32m━━━━━━━━━━━━━━━━━━━━\u001b[0m\u001b[37m\u001b[0m \u001b[1m41s\u001b[0m 37ms/step - accuracy: 0.7963 - loss: 0.6291 - val_accuracy: 0.7438 - val_loss: 0.7865\n",
            "Epoch 6/10\n",
            "\u001b[1m579/579\u001b[0m \u001b[32m━━━━━━━━━━━━━━━━━━━━\u001b[0m\u001b[37m\u001b[0m \u001b[1m19s\u001b[0m 34ms/step - accuracy: 0.8325 - loss: 0.5212 - val_accuracy: 0.7572 - val_loss: 0.7763\n",
            "Epoch 7/10\n",
            "\u001b[1m579/579\u001b[0m \u001b[32m━━━━━━━━━━━━━━━━━━━━\u001b[0m\u001b[37m\u001b[0m \u001b[1m22s\u001b[0m 36ms/step - accuracy: 0.8499 - loss: 0.4767 - val_accuracy: 0.7531 - val_loss: 0.7734\n",
            "Epoch 8/10\n",
            "\u001b[1m579/579\u001b[0m \u001b[32m━━━━━━━━━━━━━━━━━━━━\u001b[0m\u001b[37m\u001b[0m \u001b[1m19s\u001b[0m 34ms/step - accuracy: 0.8683 - loss: 0.4229 - val_accuracy: 0.7520 - val_loss: 0.7967\n",
            "Epoch 9/10\n",
            "\u001b[1m579/579\u001b[0m \u001b[32m━━━━━━━━━━━━━━━━━━━━\u001b[0m\u001b[37m\u001b[0m \u001b[1m21s\u001b[0m 37ms/step - accuracy: 0.8759 - loss: 0.3870 - val_accuracy: 0.7712 - val_loss: 0.7672\n",
            "Epoch 10/10\n",
            "\u001b[1m579/579\u001b[0m \u001b[32m━━━━━━━━━━━━━━━━━━━━\u001b[0m\u001b[37m\u001b[0m \u001b[1m40s\u001b[0m 35ms/step - accuracy: 0.8940 - loss: 0.3486 - val_accuracy: 0.7721 - val_loss: 0.7671\n"
          ]
        },
        {
          "output_type": "execute_result",
          "data": {
            "text/plain": [
              "<keras.src.callbacks.history.History at 0x7be8406ab0a0>"
            ]
          },
          "metadata": {},
          "execution_count": 9
        }
      ]
    },
    {
      "cell_type": "markdown",
      "source": [
        "# Evaluation_2"
      ],
      "metadata": {
        "id": "hE77Fs4mc2Mk"
      }
    },
    {
      "cell_type": "code",
      "source": [
        "# Prédire sur l'ensemble de test\n",
        "y_pred = model_2.predict(X_test)\n",
        "y_pred_classes = np.argmax(y_pred, axis=1)\n",
        "\n",
        "# Évaluation détaillée\n",
        "print(\"Classification Report:\")\n",
        "print(classification_report(y_test, y_pred_classes))\n",
        "\n",
        "print(\"Confusion Matrix:\")\n",
        "print(confusion_matrix(y_test, y_pred_classes))"
      ],
      "metadata": {
        "colab": {
          "base_uri": "https://localhost:8080/"
        },
        "id": "JC5TmwggdQwS",
        "outputId": "d54fa9de-1c2e-447d-ec7b-aad177029ea3"
      },
      "execution_count": 10,
      "outputs": [
        {
          "output_type": "stream",
          "name": "stdout",
          "text": [
            "\u001b[1m145/145\u001b[0m \u001b[32m━━━━━━━━━━━━━━━━━━━━\u001b[0m\u001b[37m\u001b[0m \u001b[1m1s\u001b[0m 8ms/step\n",
            "Classification Report:\n",
            "              precision    recall  f1-score   support\n",
            "\n",
            "           1       0.90      0.88      0.89      2253\n",
            "           2       0.64      0.71      0.67       151\n",
            "           3       0.33      0.23      0.27       194\n",
            "           4       0.70      0.78      0.74       613\n",
            "           5       0.53      0.59      0.56       166\n",
            "           6       0.91      0.79      0.84       193\n",
            "           7       0.00      0.00      0.00         2\n",
            "           8       0.73      0.77      0.75       589\n",
            "           9       0.00      0.00      0.00         4\n",
            "          10       0.62      0.51      0.56       148\n",
            "          11       0.54      0.58      0.56       316\n",
            "\n",
            "    accuracy                           0.77      4629\n",
            "   macro avg       0.54      0.53      0.53      4629\n",
            "weighted avg       0.77      0.77      0.77      4629\n",
            "\n",
            "Confusion Matrix:\n",
            "[[1979   28   46   52   13    5    0   71    0    9   50]\n",
            " [  26  107    0    1    7    0    0    3    0    2    5]\n",
            " [  46    0   45   51    4    0    0   18    0    2   28]\n",
            " [  35    1   20  478   25    2    0   26    0    7   19]\n",
            " [  23    8    4   21   98    0    0    3    0    2    7]\n",
            " [   2   11    0    5    3  152    0    7    0   10    3]\n",
            " [   1    0    0    0    0    1    0    0    0    0    0]\n",
            " [  52    3    7   28    1    3    0  456    0    2   37]\n",
            " [   1    0    0    0    1    1    0    0    0    1    0]\n",
            " [   9    5    0   22   23    3    0    2    0   75    9]\n",
            " [  32    4   16   23    9    0    0   37    0   11  184]]\n"
          ]
        },
        {
          "output_type": "stream",
          "name": "stderr",
          "text": [
            "/usr/local/lib/python3.10/dist-packages/sklearn/metrics/_classification.py:1531: UndefinedMetricWarning: Precision is ill-defined and being set to 0.0 in labels with no predicted samples. Use `zero_division` parameter to control this behavior.\n",
            "  _warn_prf(average, modifier, f\"{metric.capitalize()} is\", len(result))\n",
            "/usr/local/lib/python3.10/dist-packages/sklearn/metrics/_classification.py:1531: UndefinedMetricWarning: Precision is ill-defined and being set to 0.0 in labels with no predicted samples. Use `zero_division` parameter to control this behavior.\n",
            "  _warn_prf(average, modifier, f\"{metric.capitalize()} is\", len(result))\n",
            "/usr/local/lib/python3.10/dist-packages/sklearn/metrics/_classification.py:1531: UndefinedMetricWarning: Precision is ill-defined and being set to 0.0 in labels with no predicted samples. Use `zero_division` parameter to control this behavior.\n",
            "  _warn_prf(average, modifier, f\"{metric.capitalize()} is\", len(result))\n"
          ]
        }
      ]
    },
    {
      "cell_type": "code",
      "source": [
        "# Matrice de Confusion\n",
        "conf_matrix = confusion_matrix(y_test, y_pred_classes)\n",
        "\n",
        "plt.figure(figsize=(10, 8))\n",
        "sns.heatmap(conf_matrix, annot=True, fmt=\"d\", cmap=\"Blues\", cbar=False, xticklabels=range(1, 12), yticklabels=range(1, 12))\n",
        "plt.xlabel(\"Prédictions\")\n",
        "plt.ylabel(\"Véritables classes\")\n",
        "plt.title(\"Matrice de Confusion\")\n",
        "plt.show()"
      ],
      "metadata": {
        "colab": {
          "base_uri": "https://localhost:8080/",
          "height": 718
        },
        "id": "wHOl_LyNgmUu",
        "outputId": "21bbc013-be88-4fc4-c0c7-571e55a2b16a"
      },
      "execution_count": 11,
      "outputs": [
        {
          "output_type": "display_data",
          "data": {
            "text/plain": [
              "<Figure size 1000x800 with 1 Axes>"
            ],
            "image/png": "[encoded data removed]"
          },
          "metadata": {}
        }
      ]
    },
    {
      "cell_type": "code",
      "source": [
        "f1_scores = f1_score(y_test, y_pred_classes, average=None)\n",
        "plt.figure(figsize=(10, 6))\n",
        "bars = plt.bar(range(1, 12), f1_scores, color=\"skyblue\")\n",
        "plt.xlabel(\"Classes\")\n",
        "plt.ylabel(\"Score F1\")\n",
        "plt.title(\"Score F1 par Classe\")\n",
        "plt.xticks(range(1, 12))\n",
        "plt.ylim(0, 1)\n",
        "# Ajouter les pourcentages au-dessus de chaque barre\n",
        "for bar in bars:\n",
        "    yval = bar.get_height()\n",
        "    plt.text(bar.get_x() + bar.get_width() / 2, yval, f\"{yval:.0%}\", ha='center', va='bottom')\n",
        "plt.show()"
      ],
      "metadata": {
        "colab": {
          "base_uri": "https://localhost:8080/",
          "height": 564
        },
        "id": "qj6gFlUpisNh",
        "outputId": "620dbdcb-b063-416d-cc1e-11366bc5e49e"
      },
      "execution_count": 14,
      "outputs": [
        {
          "output_type": "display_data",
          "data": {
            "text/plain": [
              "<Figure size 1000x600 with 1 Axes>"
            ],
            "image/png": "[encoded data removed]"
          },
          "metadata": {}
        }
      ]
    }
  ]
}